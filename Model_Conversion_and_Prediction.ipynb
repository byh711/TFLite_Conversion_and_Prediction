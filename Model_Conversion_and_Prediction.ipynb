{
 "cells": [
  {
   "cell_type": "code",
   "execution_count": 1,
   "id": "e8bd6406",
   "metadata": {},
   "outputs": [],
   "source": [
    "# Import necessary libraries and frameworks\n",
    "\n",
    "import numpy as np\n",
    "import tensorflow as tf\n",
    "import random\n",
    "from sklearn.model_selection import train_test_split\n",
    "import pandas as pd\n",
    "import os\n",
    "from tensorflow import keras\n",
    "from sklearn.metrics import classification_report\n",
    "import matplotlib.pyplot as plt\n",
    "import tensorflow_datasets as tfds\n",
    "import time\n",
    "from modules.model_architecture import overall"
   ]
  },
  {
   "cell_type": "code",
   "execution_count": 2,
   "id": "fb5a89b9",
   "metadata": {
    "scrolled": false
   },
   "outputs": [
    {
     "name": "stdout",
     "output_type": "stream",
     "text": [
      "Model: \"overall\"\n",
      "__________________________________________________________________________________________________\n",
      " Layer (type)                   Output Shape         Param #     Connected to                     \n",
      "==================================================================================================\n",
      " audio_input (InputLayer)       [(None, 10, 65)]     0           []                               \n",
      "                                                                                                  \n",
      " text_input (InputLayer)        [(None, 35, 768)]    0           []                               \n",
      "                                                                                                  \n",
      " vision_input (InputLayer)      [(None, 5, 128)]     0           []                               \n",
      "                                                                                                  \n",
      " game_input (InputLayer)        [(None, 5, 40)]      0           []                               \n",
      "                                                                                                  \n",
      " Conv1D_audio (Conv1D)          (None, 10, 32)       2112        ['audio_input[0][0]']            \n",
      "                                                                                                  \n",
      " Conv1D_text (Conv1D)           (None, 35, 32)       24608       ['text_input[0][0]']             \n",
      "                                                                                                  \n",
      " Conv1D_vision (Conv1D)         (None, 5, 32)        4128        ['vision_input[0][0]']           \n",
      "                                                                                                  \n",
      " Conv1D_game (Conv1D)           (None, 5, 32)        1312        ['game_input[0][0]']             \n",
      "                                                                                                  \n",
      " bidirectional_1 (Bidirectional  (None, 10, 64)      16640       ['Conv1D_audio[0][0]']           \n",
      " )                                                                                                \n",
      "                                                                                                  \n",
      " bidirectional (Bidirectional)  (None, 35, 64)       16640       ['Conv1D_text[0][0]']            \n",
      "                                                                                                  \n",
      " bidirectional_2 (Bidirectional  (None, 5, 64)       16640       ['Conv1D_vision[0][0]']          \n",
      " )                                                                                                \n",
      "                                                                                                  \n",
      " bidirectional_3 (Bidirectional  (None, 5, 64)       16640       ['Conv1D_game[0][0]']            \n",
      " )                                                                                                \n",
      "                                                                                                  \n",
      " audio_text (Functional)        (None, None, 64)     100800      ['bidirectional_1[0][0]',        \n",
      "                                                                  'bidirectional[0][0]']          \n",
      "                                                                                                  \n",
      " vision_text (Functional)       (None, None, 64)     100800      ['bidirectional_2[0][0]',        \n",
      "                                                                  'bidirectional[0][0]']          \n",
      "                                                                                                  \n",
      " game_text (Functional)         (None, None, 64)     100800      ['bidirectional_3[0][0]',        \n",
      "                                                                  'bidirectional[0][0]']          \n",
      "                                                                                                  \n",
      " text_audio (Functional)        (None, None, 64)     100800      ['bidirectional[0][0]',          \n",
      "                                                                  'bidirectional_1[0][0]']        \n",
      "                                                                                                  \n",
      " vision_audio (Functional)      (None, None, 64)     100800      ['bidirectional_2[0][0]',        \n",
      "                                                                  'bidirectional_1[0][0]']        \n",
      "                                                                                                  \n",
      " game_audio (Functional)        (None, None, 64)     100800      ['bidirectional_3[0][0]',        \n",
      "                                                                  'bidirectional_1[0][0]']        \n",
      "                                                                                                  \n",
      " text_vision (Functional)       (None, None, 64)     100800      ['bidirectional[0][0]',          \n",
      "                                                                  'bidirectional_2[0][0]']        \n",
      "                                                                                                  \n",
      " audio_vision (Functional)      (None, None, 64)     100800      ['bidirectional_1[0][0]',        \n",
      "                                                                  'bidirectional_2[0][0]']        \n",
      "                                                                                                  \n",
      " game_vision (Functional)       (None, None, 64)     100800      ['bidirectional_3[0][0]',        \n",
      "                                                                  'bidirectional_2[0][0]']        \n",
      "                                                                                                  \n",
      " text_game (Functional)         (None, None, 64)     100800      ['bidirectional[0][0]',          \n",
      "                                                                  'bidirectional_3[0][0]']        \n",
      "                                                                                                  \n",
      " audio_game (Functional)        (None, None, 64)     100800      ['bidirectional_1[0][0]',        \n",
      "                                                                  'bidirectional_3[0][0]']        \n",
      "                                                                                                  \n",
      " vision_game (Functional)       (None, None, 64)     100800      ['bidirectional_2[0][0]',        \n",
      "                                                                  'bidirectional_3[0][0]']        \n",
      "                                                                                                  \n",
      " text_fusion (Concatenate)      (None, 35, 192)      0           ['audio_text[0][0]',             \n",
      "                                                                  'vision_text[0][0]',            \n",
      "                                                                  'game_text[0][0]']              \n",
      "                                                                                                  \n",
      " audio_fusion (Concatenate)     (None, 10, 192)      0           ['text_audio[0][0]',             \n",
      "                                                                  'vision_audio[0][0]',           \n",
      "                                                                  'game_audio[0][0]']             \n",
      "                                                                                                  \n",
      " vision_fusion (Concatenate)    (None, 5, 192)       0           ['text_vision[0][0]',            \n",
      "                                                                  'audio_vision[0][0]',           \n",
      "                                                                  'game_vision[0][0]']            \n",
      "                                                                                                  \n",
      " game_fusion (Concatenate)      (None, 5, 192)       0           ['text_game[0][0]',              \n",
      "                                                                  'audio_game[0][0]',             \n",
      "                                                                  'vision_game[0][0]']            \n",
      "                                                                                                  \n",
      " bidirectional_4 (Bidirectional  (None, 64)          57600       ['text_fusion[0][0]']            \n"
     ]
    },
    {
     "name": "stdout",
     "output_type": "stream",
     "text": [
      " )                                                                                                \n",
      "                                                                                                  \n",
      " bidirectional_5 (Bidirectional  (None, 64)          57600       ['audio_fusion[0][0]']           \n",
      " )                                                                                                \n",
      "                                                                                                  \n",
      " bidirectional_6 (Bidirectional  (None, 64)          57600       ['vision_fusion[0][0]']          \n",
      " )                                                                                                \n",
      "                                                                                                  \n",
      " bidirectional_7 (Bidirectional  (None, 64)          57600       ['game_fusion[0][0]']            \n",
      " )                                                                                                \n",
      "                                                                                                  \n",
      " fusion (Concatenate)           (None, 256)          0           ['bidirectional_4[0][0]',        \n",
      "                                                                  'bidirectional_5[0][0]',        \n",
      "                                                                  'bidirectional_6[0][0]',        \n",
      "                                                                  'bidirectional_7[0][0]']        \n",
      "                                                                                                  \n",
      " outputs_dense1 (Dense)         (None, 64)           16448       ['fusion[0][0]']                 \n",
      "                                                                                                  \n",
      " dropout_96 (Dropout)           (None, 64)           0           ['outputs_dense1[0][0]']         \n",
      "                                                                                                  \n",
      " outputs_dense2 (Dense)         (None, 8)            520         ['dropout_96[0][0]']             \n",
      "                                                                                                  \n",
      " outputs (Dense)                (None, 1)            9           ['outputs_dense2[0][0]']         \n",
      "                                                                                                  \n",
      "==================================================================================================\n",
      "Total params: 1,555,697\n",
      "Trainable params: 1,555,697\n",
      "Non-trainable params: 0\n",
      "__________________________________________________________________________________________________\n"
     ]
    }
   ],
   "source": [
    "# Load the model architecture and set it up with specific parameters\n",
    "\n",
    "model = overall(\n",
    "    text_size = 35,\n",
    "    audio_size = 10,\n",
    "    vision_size = 5,\n",
    "    game_size = 5,\n",
    "    text_dim = 768,\n",
    "    audio_dim = 65,\n",
    "    vision_dim = 128,\n",
    "    game_dim = 40,\n",
    "    kernel_size = 1,\n",
    "    num_layers = 3,\n",
    "    dff = 128,\n",
    "    d_model = 32,\n",
    "    num_heads = 8,\n",
    "    dropout = 0.1,\n",
    "    output_bias = tf.keras.initializers.Constant(np.log([3.247]))\n",
    ")\n",
    "\n",
    "# NOTE: Ensure the model file is available in the repository or provide instructions on how to obtain it.\n",
    "model_path = \"path_to_your_model.h5\"  # Replace with your model path or placeholder\n",
    "model.load_weights(model_path)\n",
    "\n",
    "# Compile the model with focal loss and metrics\n",
    "METRICS = [\n",
    "    keras.metrics.BinaryAccuracy(name='accuracy'),\n",
    "    keras.metrics.AUC(name='auc')\n",
    "]\n",
    "focal_loss = tf.keras.losses.BinaryFocalCrossentropy(apply_class_balancing=True, alpha=3, gamma=2)\n",
    "model.compile(loss=focal_loss, optimizer=tf.keras.optimizers.Adam(0.00005), metrics=METRICS)\n",
    "model.summary()"
   ]
  },
  {
   "cell_type": "markdown",
   "id": "5e168d52",
   "metadata": {},
   "source": [
    "## Method 1: Save the entire model + TFLite"
   ]
  },
  {
   "cell_type": "code",
   "execution_count": 3,
   "id": "83173fe6",
   "metadata": {},
   "outputs": [
    {
     "name": "stderr",
     "output_type": "stream",
     "text": [
      "WARNING:absl:Found untraced functions such as _jit_compiled_convolution_op, _jit_compiled_convolution_op, _jit_compiled_convolution_op, _jit_compiled_convolution_op, _update_step_xla while saving (showing 5 of 325). These functions will not be directly callable after loading.\n"
     ]
    },
    {
     "name": "stdout",
     "output_type": "stream",
     "text": [
      "INFO:tensorflow:Assets written to: my_model\\assets\n"
     ]
    },
    {
     "name": "stderr",
     "output_type": "stream",
     "text": [
      "INFO:tensorflow:Assets written to: my_model\\assets\n"
     ]
    }
   ],
   "source": [
    "model.save('my_model')"
   ]
  },
  {
   "cell_type": "code",
   "execution_count": 4,
   "id": "3b7d91d6",
   "metadata": {},
   "outputs": [],
   "source": [
    "converter = tf.lite.TFLiteConverter.from_saved_model('my_model')\n",
    "converter.optimizations = [tf.lite.Optimize.DEFAULT]\n",
    "converter.target_spec.supported_types = [tf.float16]\n",
    "converter._experimental_default_to_single_batch_in_tensor_list_ops = True\n",
    "tflite_model = converter.convert()"
   ]
  },
  {
   "cell_type": "code",
   "execution_count": 5,
   "id": "57885777",
   "metadata": {},
   "outputs": [],
   "source": [
    "# Save the TFLite model\n",
    "# NOTE: Ensure the 'tflite/' directory is present in your repository or provide instructions to create it.\n",
    "\n",
    "tflite_models_dir = \"tflite/\"\n",
    "tflite_model_file = os.path.join(tflite_models_dir, \"my_model.tflite\")\n",
    "with open(tflite_model_file, \"wb\") as f:\n",
    "    f.write(tflite_model)"
   ]
  },
  {
   "cell_type": "markdown",
   "id": "42493a77",
   "metadata": {},
   "source": [
    "## Method 2: Load model saved with weights + TFLite"
   ]
  },
  {
   "cell_type": "code",
   "execution_count": null,
   "id": "1aa9fbeb",
   "metadata": {},
   "outputs": [],
   "source": [
    "# NOTE: Ensure the model file is available in the repository or provide instructions on how to obtain it.\n",
    "\n",
    "converter = tf.lite.TFLiteConverter.from_keras_model(model_path)  # Replace with your model path or placeholder\n",
    "converter.optimizations = [tf.lite.Optimize.DEFAULT]\n",
    "converter._experimental_default_to_single_batch_in_tensor_list_ops = True\n",
    "converter.target_spec.supported_ops = [tf.lite.OpsSet.TFLITE_BUILTINS, tf.lite.OpsSet.SELECT_TF_OPS]\n",
    "tflite_model = converter.convert()"
   ]
  },
  {
   "cell_type": "code",
   "execution_count": null,
   "id": "a1e27c5a",
   "metadata": {},
   "outputs": [],
   "source": [
    "# Save the TFLite model\n",
    "# NOTE: Ensure the 'tflite_model/' directory is present in your repository or provide instructions to create it.\n",
    "\n",
    "tflite_models_dir = \"tflite_model/\"\n",
    "tflite_model_file = os.path.join(tflite_models_dir, \"my_model.tflite\")\n",
    "with open(tflite_model_file, \"wb\") as f:\n",
    "    f.write(tflite_model)"
   ]
  },
  {
   "cell_type": "markdown",
   "id": "227a4b84",
   "metadata": {},
   "source": [
    "## Model Prediction"
   ]
  },
  {
   "cell_type": "code",
   "execution_count": 6,
   "id": "f6dd33c9",
   "metadata": {},
   "outputs": [],
   "source": [
    "interpreter = tf.lite.Interpreter(model_path=\"tflite/my_model.tflite\")\n",
    "interpreter.allocate_tensors()\n",
    "input_details = interpreter.get_input_details()\n",
    "output_details = interpreter.get_output_details()"
   ]
  },
  {
   "cell_type": "code",
   "execution_count": 7,
   "id": "37afd05b",
   "metadata": {},
   "outputs": [
    {
     "data": {
      "text/plain": [
       "[{'name': 'serving_default_vision_input:0',\n",
       "  'index': 0,\n",
       "  'shape': array([  1,   5, 128]),\n",
       "  'shape_signature': array([ -1,   5, 128]),\n",
       "  'dtype': numpy.float32,\n",
       "  'quantization': (0.0, 0),\n",
       "  'quantization_parameters': {'scales': array([], dtype=float32),\n",
       "   'zero_points': array([], dtype=int32),\n",
       "   'quantized_dimension': 0},\n",
       "  'sparsity_parameters': {}},\n",
       " {'name': 'serving_default_audio_input:0',\n",
       "  'index': 1,\n",
       "  'shape': array([ 1, 10, 65]),\n",
       "  'shape_signature': array([-1, 10, 65]),\n",
       "  'dtype': numpy.float32,\n",
       "  'quantization': (0.0, 0),\n",
       "  'quantization_parameters': {'scales': array([], dtype=float32),\n",
       "   'zero_points': array([], dtype=int32),\n",
       "   'quantized_dimension': 0},\n",
       "  'sparsity_parameters': {}},\n",
       " {'name': 'serving_default_text_input:0',\n",
       "  'index': 2,\n",
       "  'shape': array([  1,  35, 768]),\n",
       "  'shape_signature': array([ -1,  35, 768]),\n",
       "  'dtype': numpy.float32,\n",
       "  'quantization': (0.0, 0),\n",
       "  'quantization_parameters': {'scales': array([], dtype=float32),\n",
       "   'zero_points': array([], dtype=int32),\n",
       "   'quantized_dimension': 0},\n",
       "  'sparsity_parameters': {}},\n",
       " {'name': 'serving_default_game_input:0',\n",
       "  'index': 3,\n",
       "  'shape': array([ 1,  5, 40]),\n",
       "  'shape_signature': array([-1,  5, 40]),\n",
       "  'dtype': numpy.float32,\n",
       "  'quantization': (0.0, 0),\n",
       "  'quantization_parameters': {'scales': array([], dtype=float32),\n",
       "   'zero_points': array([], dtype=int32),\n",
       "   'quantized_dimension': 0},\n",
       "  'sparsity_parameters': {}}]"
      ]
     },
     "execution_count": 7,
     "metadata": {},
     "output_type": "execute_result"
    }
   ],
   "source": [
    "# Display input details\n",
    "\n",
    "input_details"
   ]
  },
  {
   "cell_type": "code",
   "execution_count": 8,
   "id": "a21511da",
   "metadata": {},
   "outputs": [
    {
     "data": {
      "text/plain": [
       "[{'name': 'StatefulPartitionedCall:0',\n",
       "  'index': 5180,\n",
       "  'shape': array([1, 1]),\n",
       "  'shape_signature': array([-1,  1]),\n",
       "  'dtype': numpy.float32,\n",
       "  'quantization': (0.0, 0),\n",
       "  'quantization_parameters': {'scales': array([], dtype=float32),\n",
       "   'zero_points': array([], dtype=int32),\n",
       "   'quantized_dimension': 0},\n",
       "  'sparsity_parameters': {}}]"
      ]
     },
     "execution_count": 8,
     "metadata": {},
     "output_type": "execute_result"
    }
   ],
   "source": [
    "# Display output details\n",
    "\n",
    "output_details"
   ]
  },
  {
   "cell_type": "code",
   "execution_count": 9,
   "id": "cf856160",
   "metadata": {},
   "outputs": [],
   "source": [
    "# Set random input data for demonstration\n",
    "\n",
    "input_shape_vision = input_details[0]['shape']\n",
    "input_shape_audio = input_details[1]['shape']\n",
    "input_shape_text = input_details[2]['shape']\n",
    "input_shape_game = input_details[3]['shape']\n",
    "\n",
    "input_vision = np.array(np.random.random_sample(input_shape_vision), dtype=np.float32)\n",
    "interpreter.set_tensor(input_details[0]['index'], input_vision)\n",
    "input_audio = np.array(np.random.random_sample(input_shape_audio), dtype=np.float32)\n",
    "interpreter.set_tensor(input_details[1]['index'], input_audio)\n",
    "input_text = np.array(np.random.random_sample(input_shape_text), dtype=np.float32)\n",
    "interpreter.set_tensor(input_details[2]['index'], input_text)\n",
    "input_game = np.array(np.random.random_sample(input_shape_game), dtype=np.float32)\n",
    "interpreter.set_tensor(input_details[3]['index'], input_game)"
   ]
  },
  {
   "cell_type": "code",
   "execution_count": 10,
   "id": "f1fec3db",
   "metadata": {},
   "outputs": [
    {
     "name": "stdout",
     "output_type": "stream",
     "text": [
      "0.43394184\n"
     ]
    }
   ],
   "source": [
    "# Invoke the interpreter and get the output\n",
    "\n",
    "interpreter.invoke()\n",
    "output_data = interpreter.get_tensor(output_details[0]['index'])\n",
    "print(output_data[0][0])"
   ]
  }
 ],
 "metadata": {
  "kernelspec": {
   "display_name": "Python 3 (ipykernel)",
   "language": "python",
   "name": "python3"
  },
  "language_info": {
   "codemirror_mode": {
    "name": "ipython",
    "version": 3
   },
   "file_extension": ".py",
   "mimetype": "text/x-python",
   "name": "python",
   "nbconvert_exporter": "python",
   "pygments_lexer": "ipython3",
   "version": "3.11.4"
  }
 },
 "nbformat": 4,
 "nbformat_minor": 5
}
